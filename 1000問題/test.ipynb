{
 "cells": [
  {
   "cell_type": "code",
   "execution_count": 4,
   "metadata": {},
   "outputs": [
    {
     "name": "stdout",
     "output_type": "stream",
     "text": [
      "['如何評估<companyname>財務健全性？（個股分析）', '<companyname>明年EPS會增長嗎？（預測）', '<companyname>的P/E比例合理嗎？（個股分析）', '台積電和<companyname>哪個更值得買？（多股比較）', '<companyname>適合短線投資嗎？（個股分析）', '<companyname>的主要營收來自哪？（個股資料查詢）', '電動車產業未來三年看好嗎？（產業、預測）', '大盤明天會漲還是跌？（大盤、預測）', '<companyname>的籌碼集中度如何？（個股資料查詢）', '新手開戶券商選哪家好？（實務）', '十年投資，收益最大化？（推薦軟條件）', 'DYR高股票有哪些推薦？（選股硬條件）', '矽晶圓行業分析簡述？（產業）', '高殖利率股票怎麼篩？（選股硬條件）', '美股技術分析怎麼看？（其他金融工具）', 'ESG投資概念能發酵多久？（預測）', '航運股現在還能進場嗎？（個股分析）', 'ETF基金怎麼選擇最佳？（其他金融工具）', '<companyname>的ROE走勢圖？（個股資料查詢）', '操作期指有哪些技巧？（其他金融工具）', '如何追蹤<companyname>法人動向？（個股資料查詢）', '殖利率是什麼？重要嗎？（字典查詢）', '融資餘額對股價影響大嗎？（個股分析）', '哪些類股現在正當紅？（產業）', '分散投資還需持有幾檔？（多股比較）', '增發新股會稀釋股價嗎？（實務）', '外資看多<companyname>理由？（個股分析）', '穩健存股，請推薦標的！（推薦軟條件）', '融資融券概念解釋一下？（字典查詢）', '<companyname>抗跌力分析？（個股分析）', '看好新興市場還是美股？（其他金融工具）', '證券櫃檯買賣操作介紹？（實務）', '台指期何時該平倉？（其他金融工具）', 'AI產業投資哪些標的？（產業）', '長期看好的產業有哪些？（產業）', '財報要素差異，影響何在？（個股分析）', '操作台股有什麼要訣？（實務）', '永續經營股推薦幾支？（推薦軟條件）', '<companyname>年度營收預測值？（預測）', '碳交易概念股還能進？（個股分析）', '新手炒股最大風險何在？（實務）', '<companyname>近期走勢怎樣？（預測）', '減持股份會有何後果？（實務）', '<companyname>合理股價預測？（預測）', '中國板塊現在能投資嗎？（其他金融工具）', '高股息率對股價影響？（個股分析）', '配息前後股價波動原因？（個股分析）', '技術線圖怎麼畫才正確？（學習請教）', '如何培養股市感覺？（學習請教）', '如何抓住<companyname>低點？（學習請教）']\n"
     ]
    }
   ],
   "source": [
    "from utils.label import * \n",
    "from utils.resprocess import * \n",
    "from utils.output import *\n",
    "import pandas as pd\n",
    "\n",
    "# read data\n",
    "with open('./response/response2.txt', 'r', encoding='utf-8') as f:\n",
    "    data = f.read()\n",
    "\n",
    "\n",
    "# proccess \n",
    "qli = extractq(data)\n",
    "print(qli)\n",
    "# for i in qli:\n",
    "#     print(i)"
   ]
  },
  {
   "cell_type": "code",
   "execution_count": 5,
   "metadata": {},
   "outputs": [],
   "source": [
    "label_map = {\n",
    "    '個股分析':0,\n",
    "    '多股比較':1,\t\n",
    "    '個股資料查詢':2,\t\n",
    "    '產業':3,\n",
    "    '大盤':4,\n",
    "    '實務':5,\n",
    "    '推薦軟條件':6,\t\n",
    "    '選股硬條件':7,\t\n",
    "    '字典查詢':8,\n",
    "    '預測':9,\t\n",
    "    '不處理':10,\t\n",
    "    '總經與其他金融工具':11,\n",
    "    '學習請教':12,\n",
    "}"
   ]
  },
  {
   "cell_type": "code",
   "execution_count": 6,
   "metadata": {},
   "outputs": [
    {
     "name": "stdout",
     "output_type": "stream",
     "text": [
      "[[1, 0, 1, 0, 0, 0, 0, 0, 0, 1, 0, 0, 0], [0, 0, 1, 0, 0, 0, 0, 0, 0, 0, 0, 0, 1], [0, 0, 1, 0, 0, 0, 0, 0, 0, 0, 0, 0, 0], [0, 0, 0, 0, 0, 0, 0, 0, 0, 1, 0, 1, 0]]\n"
     ]
    }
   ],
   "source": [
    "import re\n",
    "\n",
    "def extract_tags_from_question(question):\n",
    "    # 使用正则表达式匹配括号内的标签\n",
    "    pattern = r'\\（(.*?)\\）'\n",
    "    matches = re.findall(pattern, question)\n",
    "    # print(matches[0].split('、'))\n",
    "    return matches[0].split('、')\n",
    "\n",
    "def extract_tags_from_list(input_list):\n",
    "    # 对输入列表中的每个问题应用extract_tags_from_question函数\n",
    "    result_list = [extract_tags_from_question(question) for question in input_list]\n",
    "    # print(result_list)\n",
    "    return result_list \n",
    "\n",
    "def generate_output_binary(input_list, label_map=label_map):\n",
    "    # 创建一个长度为 13 的列表，初始值为 0\n",
    "    output_list = [0] * 13\n",
    "\n",
    "    # 遍历输入列表，将对应位置的值更新为 1\n",
    "    for label in input_list:\n",
    "        if label in label_map:\n",
    "            output_list[label_map[label]] = 1\n",
    "\n",
    "    return output_list\n",
    "\n",
    "# 输入列表\n",
    "input_list = ['我聽說<companyname>最新的營收報告出現了不尋常的增長，這是否反映該公司的核心業務正在經歷積極的變化？基於這樣的資訊，短期內購買<companyname>的股票是一個明智的決定嗎，還是還有其他隱藏風險我們應該注意？（個股分析、個股資料查詢、預測）',\n",
    "              '我想了解<companyname>在技術分析上的支撐與阻力位分別是多少，並想知道其50日移動平均線和200日移動平均線的趨勢是否正向發展。這些資訊對於預判短線進出有助益嗎？（個股資料查詢、學習請教）',\n",
    "              '<companyname>的近期財報反映什麼走勢？（個股、個股資料查詢）',\n",
    "              '比特幣未來走勢會怎樣？（技術指標、預測、總經與其他金融工具）']\n",
    "\n",
    "# 提取标签\n",
    "output_list = extract_tags_from_list(input_list)\n",
    "q_label_li = list(map(generate_output_binary,output_list))\n",
    "\n",
    "# 打印结果\n",
    "print(q_label_li)\n"
   ]
  },
  {
   "cell_type": "code",
   "execution_count": null,
   "metadata": {},
   "outputs": [],
   "source": []
  }
 ],
 "metadata": {
  "kernelspec": {
   "display_name": "sim_search",
   "language": "python",
   "name": "python3"
  },
  "language_info": {
   "codemirror_mode": {
    "name": "ipython",
    "version": 3
   },
   "file_extension": ".py",
   "mimetype": "text/x-python",
   "name": "python",
   "nbconvert_exporter": "python",
   "pygments_lexer": "ipython3",
   "version": "3.7.13"
  }
 },
 "nbformat": 4,
 "nbformat_minor": 2
}
