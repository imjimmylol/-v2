{
 "cells": [
  {
   "cell_type": "markdown",
   "metadata": {},
   "source": [
    "# 1. Load data"
   ]
  },
  {
   "cell_type": "code",
   "execution_count": 336,
   "metadata": {},
   "outputs": [],
   "source": [
    "import pandas as pd\n",
    "import ast\n",
    "from utils.label import *\n",
    "import re\n",
    "import numpy as np\n",
    "import warnings\n",
    "warnings.filterwarnings(\"ignore\")"
   ]
  },
  {
   "cell_type": "code",
   "execution_count": 337,
   "metadata": {},
   "outputs": [],
   "source": [
    "df = pd.read_csv(\"./5000_merged/res.csv\")\n",
    "df =  df.drop(df.columns[[0, 1]],axis = 1)"
   ]
  },
  {
   "cell_type": "code",
   "execution_count": 338,
   "metadata": {},
   "outputs": [
    {
     "name": "stdout",
     "output_type": "stream",
     "text": [
      "                                                     q  \\\n",
      "0              如何識別潛在的高風險高回報ETFs，並評估其與傳統低風險ETF之間的平衡策略？   \n",
      "1                     ETF的流動性如何影響我作為一名散戶投資者進入和退出市場的時機？   \n",
      "2    那些因素可能導致ETF的折溢價，即其交易價格與其淨資產價值(NAV)不一致，且我應如何運用這...   \n",
      "3                       在選擇行業特定ETF時，應如何分析其成分股的多樣性和集中度？   \n",
      "4             投資於主動管理式ETF與被動指數追蹤ETF的性能比較如何，考慮到不同的市場環境？   \n",
      "..                                                 ...   \n",
      "995    從技術分析的角度來看，<companyname>目前是否位於重要的支撐或阻力水平？（個股分析）   \n",
      "996  <companyname>過去一年的營運活動現金流有哪些主要變化？這對股價有何影響？（個股分...   \n",
      "997     根據<companyname>的行業地位和市場占有率，能否推斷它未來的業績增長？（個股分析）   \n",
      "998      鑒於<companyname>的債務管理策略，是否應對其長期信貸風險保持警惕？（個股分析）   \n",
      "999  如果想獲得穩定的股利回報，<companyname>的股利發放記錄和未來預期如何？（個股分析...   \n",
      "\n",
      "                                           y  \n",
      "0    [0, 0, 0, 0, 1, 0, 0, 0, 0, 1, 0, 1, 1]  \n",
      "1    [0, 0, 0, 0, 1, 0, 0, 0, 0, 1, 0, 1, 1]  \n",
      "2    [0, 0, 0, 0, 1, 0, 0, 0, 0, 1, 0, 1, 1]  \n",
      "3    [0, 0, 0, 0, 1, 0, 0, 0, 0, 1, 0, 1, 1]  \n",
      "4    [0, 0, 0, 0, 1, 0, 0, 0, 0, 1, 0, 1, 1]  \n",
      "..                                       ...  \n",
      "995  [1, 0, 0, 0, 0, 0, 0, 0, 0, 0, 0, 0, 0]  \n",
      "996  [1, 0, 1, 0, 0, 0, 0, 0, 0, 0, 0, 0, 0]  \n",
      "997  [1, 0, 0, 0, 0, 0, 0, 0, 0, 0, 0, 0, 0]  \n",
      "998  [1, 0, 0, 0, 0, 0, 0, 0, 0, 0, 0, 0, 0]  \n",
      "999  [1, 0, 1, 0, 0, 0, 0, 0, 0, 0, 0, 0, 0]  \n",
      "\n",
      "[1000 rows x 2 columns]\n"
     ]
    }
   ],
   "source": [
    "print(df)"
   ]
  },
  {
   "cell_type": "code",
   "execution_count": 339,
   "metadata": {},
   "outputs": [],
   "source": [
    "tmp = df['y'].apply(ast.literal_eval)\n",
    "df_dummy = pd.DataFrame(tmp.tolist(), columns=[f'col_{i}' for i in range(13)])"
   ]
  },
  {
   "cell_type": "code",
   "execution_count": 340,
   "metadata": {},
   "outputs": [],
   "source": [
    "df = pd.concat([df, df_dummy], axis=1)"
   ]
  },
  {
   "cell_type": "code",
   "execution_count": 341,
   "metadata": {},
   "outputs": [],
   "source": [
    "label_map = {\n",
    "    '個股分析':0,\n",
    "    '多股比較':1,\t\n",
    "    '個股資料查詢':2,\t\n",
    "    '產業':3,\n",
    "    '大盤':4,\n",
    "    '實務':5,\n",
    "    '推薦軟條件':6,\t\n",
    "    '選股硬條件':7,\t\n",
    "    '字典查詢':8,\n",
    "    '預測':9,\t\n",
    "    '不處理':10,\t\n",
    "    '總經與其他金融工具':11,\n",
    "    '學習請教':12,\n",
    "}"
   ]
  },
  {
   "cell_type": "code",
   "execution_count": 342,
   "metadata": {},
   "outputs": [],
   "source": [
    "df = df.rename(columns={f'col_{i}': f'{col}' for i, col in enumerate(label_map.keys())})"
   ]
  },
  {
   "cell_type": "markdown",
   "metadata": {},
   "source": [
    "# 2. clean data"
   ]
  },
  {
   "cell_type": "markdown",
   "metadata": {},
   "source": [
    "## 2.1 修正多股比較_標籤\n",
    "含有```'<othercompanyname>'```的一律視為有多股比較"
   ]
  },
  {
   "cell_type": "code",
   "execution_count": 343,
   "metadata": {},
   "outputs": [
    {
     "data": {
      "text/html": [
       "<div>\n",
       "<style scoped>\n",
       "    .dataframe tbody tr th:only-of-type {\n",
       "        vertical-align: middle;\n",
       "    }\n",
       "\n",
       "    .dataframe tbody tr th {\n",
       "        vertical-align: top;\n",
       "    }\n",
       "\n",
       "    .dataframe thead th {\n",
       "        text-align: right;\n",
       "    }\n",
       "</style>\n",
       "<table border=\"1\" class=\"dataframe\">\n",
       "  <thead>\n",
       "    <tr style=\"text-align: right;\">\n",
       "      <th></th>\n",
       "      <th>q</th>\n",
       "      <th>y</th>\n",
       "      <th>個股分析</th>\n",
       "      <th>多股比較</th>\n",
       "      <th>個股資料查詢</th>\n",
       "      <th>產業</th>\n",
       "      <th>大盤</th>\n",
       "      <th>實務</th>\n",
       "      <th>推薦軟條件</th>\n",
       "      <th>選股硬條件</th>\n",
       "      <th>字典查詢</th>\n",
       "      <th>預測</th>\n",
       "      <th>不處理</th>\n",
       "      <th>總經與其他金融工具</th>\n",
       "      <th>學習請教</th>\n",
       "    </tr>\n",
       "  </thead>\n",
       "  <tbody>\n",
       "    <tr>\n",
       "      <th>0</th>\n",
       "      <td>如何識別潛在的高風險高回報ETFs，並評估其與傳統低風險ETF之間的平衡策略？</td>\n",
       "      <td>[0, 0, 0, 0, 1, 0, 0, 0, 0, 1, 0, 1, 1]</td>\n",
       "      <td>0</td>\n",
       "      <td>0</td>\n",
       "      <td>0</td>\n",
       "      <td>0</td>\n",
       "      <td>1</td>\n",
       "      <td>0</td>\n",
       "      <td>0</td>\n",
       "      <td>0</td>\n",
       "      <td>0</td>\n",
       "      <td>1</td>\n",
       "      <td>0</td>\n",
       "      <td>1</td>\n",
       "      <td>1</td>\n",
       "    </tr>\n",
       "    <tr>\n",
       "      <th>1</th>\n",
       "      <td>ETF的流動性如何影響我作為一名散戶投資者進入和退出市場的時機？</td>\n",
       "      <td>[0, 0, 0, 0, 1, 0, 0, 0, 0, 1, 0, 1, 1]</td>\n",
       "      <td>0</td>\n",
       "      <td>0</td>\n",
       "      <td>0</td>\n",
       "      <td>0</td>\n",
       "      <td>1</td>\n",
       "      <td>0</td>\n",
       "      <td>0</td>\n",
       "      <td>0</td>\n",
       "      <td>0</td>\n",
       "      <td>1</td>\n",
       "      <td>0</td>\n",
       "      <td>1</td>\n",
       "      <td>1</td>\n",
       "    </tr>\n",
       "    <tr>\n",
       "      <th>2</th>\n",
       "      <td>那些因素可能導致ETF的折溢價，即其交易價格與其淨資產價值(NAV)不一致，且我應如何運用這...</td>\n",
       "      <td>[0, 0, 0, 0, 1, 0, 0, 0, 0, 1, 0, 1, 1]</td>\n",
       "      <td>0</td>\n",
       "      <td>0</td>\n",
       "      <td>0</td>\n",
       "      <td>0</td>\n",
       "      <td>1</td>\n",
       "      <td>0</td>\n",
       "      <td>0</td>\n",
       "      <td>0</td>\n",
       "      <td>0</td>\n",
       "      <td>1</td>\n",
       "      <td>0</td>\n",
       "      <td>1</td>\n",
       "      <td>1</td>\n",
       "    </tr>\n",
       "    <tr>\n",
       "      <th>3</th>\n",
       "      <td>在選擇行業特定ETF時，應如何分析其成分股的多樣性和集中度？</td>\n",
       "      <td>[0, 0, 0, 0, 1, 0, 0, 0, 0, 1, 0, 1, 1]</td>\n",
       "      <td>0</td>\n",
       "      <td>0</td>\n",
       "      <td>0</td>\n",
       "      <td>0</td>\n",
       "      <td>1</td>\n",
       "      <td>0</td>\n",
       "      <td>0</td>\n",
       "      <td>0</td>\n",
       "      <td>0</td>\n",
       "      <td>1</td>\n",
       "      <td>0</td>\n",
       "      <td>1</td>\n",
       "      <td>1</td>\n",
       "    </tr>\n",
       "    <tr>\n",
       "      <th>4</th>\n",
       "      <td>投資於主動管理式ETF與被動指數追蹤ETF的性能比較如何，考慮到不同的市場環境？</td>\n",
       "      <td>[0, 0, 0, 0, 1, 0, 0, 0, 0, 1, 0, 1, 1]</td>\n",
       "      <td>0</td>\n",
       "      <td>0</td>\n",
       "      <td>0</td>\n",
       "      <td>0</td>\n",
       "      <td>1</td>\n",
       "      <td>0</td>\n",
       "      <td>0</td>\n",
       "      <td>0</td>\n",
       "      <td>0</td>\n",
       "      <td>1</td>\n",
       "      <td>0</td>\n",
       "      <td>1</td>\n",
       "      <td>1</td>\n",
       "    </tr>\n",
       "  </tbody>\n",
       "</table>\n",
       "</div>"
      ],
      "text/plain": [
       "                                                   q  \\\n",
       "0            如何識別潛在的高風險高回報ETFs，並評估其與傳統低風險ETF之間的平衡策略？   \n",
       "1                   ETF的流動性如何影響我作為一名散戶投資者進入和退出市場的時機？   \n",
       "2  那些因素可能導致ETF的折溢價，即其交易價格與其淨資產價值(NAV)不一致，且我應如何運用這...   \n",
       "3                     在選擇行業特定ETF時，應如何分析其成分股的多樣性和集中度？   \n",
       "4           投資於主動管理式ETF與被動指數追蹤ETF的性能比較如何，考慮到不同的市場環境？   \n",
       "\n",
       "                                         y  個股分析  多股比較  個股資料查詢  產業  大盤  實務  \\\n",
       "0  [0, 0, 0, 0, 1, 0, 0, 0, 0, 1, 0, 1, 1]     0     0       0   0   1   0   \n",
       "1  [0, 0, 0, 0, 1, 0, 0, 0, 0, 1, 0, 1, 1]     0     0       0   0   1   0   \n",
       "2  [0, 0, 0, 0, 1, 0, 0, 0, 0, 1, 0, 1, 1]     0     0       0   0   1   0   \n",
       "3  [0, 0, 0, 0, 1, 0, 0, 0, 0, 1, 0, 1, 1]     0     0       0   0   1   0   \n",
       "4  [0, 0, 0, 0, 1, 0, 0, 0, 0, 1, 0, 1, 1]     0     0       0   0   1   0   \n",
       "\n",
       "   推薦軟條件  選股硬條件  字典查詢  預測  不處理  總經與其他金融工具  學習請教  \n",
       "0      0      0     0   1    0          1     1  \n",
       "1      0      0     0   1    0          1     1  \n",
       "2      0      0     0   1    0          1     1  \n",
       "3      0      0     0   1    0          1     1  \n",
       "4      0      0     0   1    0          1     1  "
      ]
     },
     "execution_count": 343,
     "metadata": {},
     "output_type": "execute_result"
    }
   ],
   "source": [
    "df.head()"
   ]
  },
  {
   "cell_type": "code",
   "execution_count": 344,
   "metadata": {},
   "outputs": [],
   "source": [
    "substring_to_check = '<othercompanyname>'\n",
    "mask = df['q'].str.contains(substring_to_check, case=True)\n",
    "df.loc[mask, '多股比較'] = 1"
   ]
  },
  {
   "cell_type": "code",
   "execution_count": 345,
   "metadata": {},
   "outputs": [
    {
     "data": {
      "text/html": [
       "<div>\n",
       "<style scoped>\n",
       "    .dataframe tbody tr th:only-of-type {\n",
       "        vertical-align: middle;\n",
       "    }\n",
       "\n",
       "    .dataframe tbody tr th {\n",
       "        vertical-align: top;\n",
       "    }\n",
       "\n",
       "    .dataframe thead th {\n",
       "        text-align: right;\n",
       "    }\n",
       "</style>\n",
       "<table border=\"1\" class=\"dataframe\">\n",
       "  <thead>\n",
       "    <tr style=\"text-align: right;\">\n",
       "      <th></th>\n",
       "      <th>q</th>\n",
       "      <th>y</th>\n",
       "      <th>個股分析</th>\n",
       "      <th>多股比較</th>\n",
       "      <th>個股資料查詢</th>\n",
       "      <th>產業</th>\n",
       "      <th>大盤</th>\n",
       "      <th>實務</th>\n",
       "      <th>推薦軟條件</th>\n",
       "      <th>選股硬條件</th>\n",
       "      <th>字典查詢</th>\n",
       "      <th>預測</th>\n",
       "      <th>不處理</th>\n",
       "      <th>總經與其他金融工具</th>\n",
       "      <th>學習請教</th>\n",
       "    </tr>\n",
       "  </thead>\n",
       "  <tbody>\n",
       "    <tr>\n",
       "      <th>0</th>\n",
       "      <td>如何識別潛在的高風險高回報ETFs，並評估其與傳統低風險ETF之間的平衡策略？</td>\n",
       "      <td>[0, 0, 0, 0, 1, 0, 0, 0, 0, 1, 0, 1, 1]</td>\n",
       "      <td>0</td>\n",
       "      <td>0</td>\n",
       "      <td>0</td>\n",
       "      <td>0</td>\n",
       "      <td>1</td>\n",
       "      <td>0</td>\n",
       "      <td>0</td>\n",
       "      <td>0</td>\n",
       "      <td>0</td>\n",
       "      <td>1</td>\n",
       "      <td>0</td>\n",
       "      <td>1</td>\n",
       "      <td>1</td>\n",
       "    </tr>\n",
       "    <tr>\n",
       "      <th>1</th>\n",
       "      <td>ETF的流動性如何影響我作為一名散戶投資者進入和退出市場的時機？</td>\n",
       "      <td>[0, 0, 0, 0, 1, 0, 0, 0, 0, 1, 0, 1, 1]</td>\n",
       "      <td>0</td>\n",
       "      <td>0</td>\n",
       "      <td>0</td>\n",
       "      <td>0</td>\n",
       "      <td>1</td>\n",
       "      <td>0</td>\n",
       "      <td>0</td>\n",
       "      <td>0</td>\n",
       "      <td>0</td>\n",
       "      <td>1</td>\n",
       "      <td>0</td>\n",
       "      <td>1</td>\n",
       "      <td>1</td>\n",
       "    </tr>\n",
       "    <tr>\n",
       "      <th>2</th>\n",
       "      <td>那些因素可能導致ETF的折溢價，即其交易價格與其淨資產價值(NAV)不一致，且我應如何運用這...</td>\n",
       "      <td>[0, 0, 0, 0, 1, 0, 0, 0, 0, 1, 0, 1, 1]</td>\n",
       "      <td>0</td>\n",
       "      <td>0</td>\n",
       "      <td>0</td>\n",
       "      <td>0</td>\n",
       "      <td>1</td>\n",
       "      <td>0</td>\n",
       "      <td>0</td>\n",
       "      <td>0</td>\n",
       "      <td>0</td>\n",
       "      <td>1</td>\n",
       "      <td>0</td>\n",
       "      <td>1</td>\n",
       "      <td>1</td>\n",
       "    </tr>\n",
       "    <tr>\n",
       "      <th>3</th>\n",
       "      <td>在選擇行業特定ETF時，應如何分析其成分股的多樣性和集中度？</td>\n",
       "      <td>[0, 0, 0, 0, 1, 0, 0, 0, 0, 1, 0, 1, 1]</td>\n",
       "      <td>0</td>\n",
       "      <td>0</td>\n",
       "      <td>0</td>\n",
       "      <td>0</td>\n",
       "      <td>1</td>\n",
       "      <td>0</td>\n",
       "      <td>0</td>\n",
       "      <td>0</td>\n",
       "      <td>0</td>\n",
       "      <td>1</td>\n",
       "      <td>0</td>\n",
       "      <td>1</td>\n",
       "      <td>1</td>\n",
       "    </tr>\n",
       "    <tr>\n",
       "      <th>4</th>\n",
       "      <td>投資於主動管理式ETF與被動指數追蹤ETF的性能比較如何，考慮到不同的市場環境？</td>\n",
       "      <td>[0, 0, 0, 0, 1, 0, 0, 0, 0, 1, 0, 1, 1]</td>\n",
       "      <td>0</td>\n",
       "      <td>0</td>\n",
       "      <td>0</td>\n",
       "      <td>0</td>\n",
       "      <td>1</td>\n",
       "      <td>0</td>\n",
       "      <td>0</td>\n",
       "      <td>0</td>\n",
       "      <td>0</td>\n",
       "      <td>1</td>\n",
       "      <td>0</td>\n",
       "      <td>1</td>\n",
       "      <td>1</td>\n",
       "    </tr>\n",
       "  </tbody>\n",
       "</table>\n",
       "</div>"
      ],
      "text/plain": [
       "                                                   q  \\\n",
       "0            如何識別潛在的高風險高回報ETFs，並評估其與傳統低風險ETF之間的平衡策略？   \n",
       "1                   ETF的流動性如何影響我作為一名散戶投資者進入和退出市場的時機？   \n",
       "2  那些因素可能導致ETF的折溢價，即其交易價格與其淨資產價值(NAV)不一致，且我應如何運用這...   \n",
       "3                     在選擇行業特定ETF時，應如何分析其成分股的多樣性和集中度？   \n",
       "4           投資於主動管理式ETF與被動指數追蹤ETF的性能比較如何，考慮到不同的市場環境？   \n",
       "\n",
       "                                         y  個股分析  多股比較  個股資料查詢  產業  大盤  實務  \\\n",
       "0  [0, 0, 0, 0, 1, 0, 0, 0, 0, 1, 0, 1, 1]     0     0       0   0   1   0   \n",
       "1  [0, 0, 0, 0, 1, 0, 0, 0, 0, 1, 0, 1, 1]     0     0       0   0   1   0   \n",
       "2  [0, 0, 0, 0, 1, 0, 0, 0, 0, 1, 0, 1, 1]     0     0       0   0   1   0   \n",
       "3  [0, 0, 0, 0, 1, 0, 0, 0, 0, 1, 0, 1, 1]     0     0       0   0   1   0   \n",
       "4  [0, 0, 0, 0, 1, 0, 0, 0, 0, 1, 0, 1, 1]     0     0       0   0   1   0   \n",
       "\n",
       "   推薦軟條件  選股硬條件  字典查詢  預測  不處理  總經與其他金融工具  學習請教  \n",
       "0      0      0     0   1    0          1     1  \n",
       "1      0      0     0   1    0          1     1  \n",
       "2      0      0     0   1    0          1     1  \n",
       "3      0      0     0   1    0          1     1  \n",
       "4      0      0     0   1    0          1     1  "
      ]
     },
     "execution_count": 345,
     "metadata": {},
     "output_type": "execute_result"
    }
   ],
   "source": [
    "df.head()"
   ]
  },
  {
   "cell_type": "markdown",
   "metadata": {},
   "source": [
    "## 2.2 刪除 q 後面註記的()"
   ]
  },
  {
   "cell_type": "code",
   "execution_count": 346,
   "metadata": {},
   "outputs": [],
   "source": [
    "def _del(s):\n",
    "    pattern  = re.compile(r'？\\（.*\\）')\n",
    "    return pattern.sub(\"？\", s)"
   ]
  },
  {
   "cell_type": "code",
   "execution_count": 347,
   "metadata": {},
   "outputs": [],
   "source": [
    "df['q'] = df['q'].apply(_del)"
   ]
  },
  {
   "cell_type": "markdown",
   "metadata": {},
   "source": [
    "## 2.3 <>裡面的東西一律改成:companyname"
   ]
  },
  {
   "cell_type": "code",
   "execution_count": 348,
   "metadata": {},
   "outputs": [],
   "source": [
    "def _cmpyname(s):\n",
    "    pattern  = re.compile(r'<[^>]+>')\n",
    "    return pattern.sub(\"<companyname>\", s)"
   ]
  },
  {
   "cell_type": "code",
   "execution_count": 349,
   "metadata": {},
   "outputs": [],
   "source": [
    "df['q'] = df['q'].apply(_cmpyname)"
   ]
  },
  {
   "cell_type": "markdown",
   "metadata": {},
   "source": [
    "## 2.4 轉成繁體"
   ]
  },
  {
   "cell_type": "code",
   "execution_count": 350,
   "metadata": {},
   "outputs": [],
   "source": [
    "from tqdm import tqdm\n",
    "tqdm.pandas()"
   ]
  },
  {
   "cell_type": "code",
   "execution_count": 351,
   "metadata": {},
   "outputs": [],
   "source": [
    "import opencc\n",
    "converter= opencc.OpenCC('s2twp.json')\n",
    "def simplify_to_traditional(simplified_text, converter = converter):\n",
    "    traditional_text = converter.convert(simplified_text)\n",
    "    return traditional_text"
   ]
  },
  {
   "cell_type": "code",
   "execution_count": 352,
   "metadata": {},
   "outputs": [],
   "source": [
    "df['q'] = df['q'].apply(simplify_to_traditional)"
   ]
  },
  {
   "cell_type": "markdown",
   "metadata": {},
   "source": [
    "## 2.5 個股分析標籤新增\n",
    "規則:包含```<companyname>```但是不包含```<othercompanyname>```"
   ]
  },
  {
   "cell_type": "code",
   "execution_count": 353,
   "metadata": {},
   "outputs": [],
   "source": [
    "mask1 = df['q'].str.contains('<companyname>')\n",
    "mask2 = df['q'].str.contains('<othercompanyname>')\n",
    "mask = ((mask1) != (mask1 & mask2))"
   ]
  },
  {
   "cell_type": "code",
   "execution_count": 354,
   "metadata": {},
   "outputs": [],
   "source": [
    "df.loc[mask, '個股分析'] = 1"
   ]
  },
  {
   "cell_type": "markdown",
   "metadata": {},
   "source": [
    "# 3. 匯出"
   ]
  },
  {
   "cell_type": "code",
   "execution_count": 355,
   "metadata": {},
   "outputs": [],
   "source": [
    "df = df.drop(df.columns[1], axis=1)"
   ]
  },
  {
   "cell_type": "code",
   "execution_count": 356,
   "metadata": {},
   "outputs": [],
   "source": [
    "df = df.sample(frac=1).reset_index(drop=True)"
   ]
  },
  {
   "cell_type": "code",
   "execution_count": 357,
   "metadata": {},
   "outputs": [],
   "source": [
    "df.to_csv('./5000_final/cleanres.csv', encoding='utf-8-sig')"
   ]
  },
  {
   "cell_type": "code",
   "execution_count": 358,
   "metadata": {},
   "outputs": [
    {
     "data": {
      "text/plain": [
       "(1000, 14)"
      ]
     },
     "execution_count": 358,
     "metadata": {},
     "output_type": "execute_result"
    }
   ],
   "source": [
    "df.shape"
   ]
  }
 ],
 "metadata": {
  "kernelspec": {
   "display_name": "sim_search",
   "language": "python",
   "name": "python3"
  },
  "language_info": {
   "codemirror_mode": {
    "name": "ipython",
    "version": 3
   },
   "file_extension": ".py",
   "mimetype": "text/x-python",
   "name": "python",
   "nbconvert_exporter": "python",
   "pygments_lexer": "ipython3",
   "version": "3.7.13"
  }
 },
 "nbformat": 4,
 "nbformat_minor": 2
}
