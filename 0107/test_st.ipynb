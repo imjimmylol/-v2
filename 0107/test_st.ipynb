{
 "cells": [
  {
   "cell_type": "code",
   "execution_count": 1,
   "metadata": {},
   "outputs": [],
   "source": [
    "from utils import stprocess\n",
    "import pandas as pd\n",
    "import numpy as np"
   ]
  },
  {
   "cell_type": "code",
   "execution_count": 2,
   "metadata": {},
   "outputs": [
    {
     "name": "stderr",
     "output_type": "stream",
     "text": [
      "                                                                   \r"
     ]
    }
   ],
   "source": [
    "df = pd.read_csv(\"../1223/data/concentration/quote/2020_20230814.csv\").dropna()\n",
    "df = df.groupby('股號', as_index=False).apply(lambda x: x.sort_values('日期')).reset_index(drop=True)\n",
    "\n",
    "st_engine = stprocess.StatWindow(df)\n",
    "ret, sig, date, tick = st_engine.create_events_st()\n",
    "res = st_engine.perform_stat_test()"
   ]
  },
  {
   "cell_type": "code",
   "execution_count": 3,
   "metadata": {},
   "outputs": [],
   "source": [
    "res = stprocess.StatWindow.convert_res2_pandas(res)"
   ]
  },
  {
   "cell_type": "code",
   "execution_count": 4,
   "metadata": {},
   "outputs": [],
   "source": [
    "res_analysis = stprocess.StatWindow.result_analysis(res)"
   ]
  },
  {
   "cell_type": "code",
   "execution_count": 5,
   "metadata": {},
   "outputs": [
    {
     "name": "stdout",
     "output_type": "stream",
     "text": [
      "        tick  decreasing_percentage  increasing_percentage  \\\n",
      "0       1101              20.930233              16.279070   \n",
      "1       1102              17.391304              32.608696   \n",
      "2       1103              12.500000              29.166667   \n",
      "3       1104              29.032258              41.935484   \n",
      "4       1108              17.777778              24.444444   \n",
      "...      ...                    ...                    ...   \n",
      "1546  910861              22.222222              22.222222   \n",
      "1547  911608              40.000000              30.000000   \n",
      "1548  911622              58.333333               8.333333   \n",
      "1549  911868              44.444444               3.703704   \n",
      "1550  912000              40.000000              17.500000   \n",
      "\n",
      "      no_trend_percentage  total_outcomes  \n",
      "0               62.790698              43  \n",
      "1               50.000000              46  \n",
      "2               58.333333              48  \n",
      "3               29.032258              31  \n",
      "4               57.777778              45  \n",
      "...                   ...             ...  \n",
      "1546            55.555556               9  \n",
      "1547            30.000000              10  \n",
      "1548            33.333333              12  \n",
      "1549            51.851852              27  \n",
      "1550            42.500000              40  \n",
      "\n",
      "[1551 rows x 5 columns]\n"
     ]
    }
   ],
   "source": [
    "print(res_analysis)"
   ]
  }
 ],
 "metadata": {
  "kernelspec": {
   "display_name": "sim_search",
   "language": "python",
   "name": "python3"
  },
  "language_info": {
   "codemirror_mode": {
    "name": "ipython",
    "version": 3
   },
   "file_extension": ".py",
   "mimetype": "text/x-python",
   "name": "python",
   "nbconvert_exporter": "python",
   "pygments_lexer": "ipython3",
   "version": "3.10.0"
  }
 },
 "nbformat": 4,
 "nbformat_minor": 2
}
