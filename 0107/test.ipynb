{
 "cells": [
  {
   "cell_type": "code",
   "execution_count": 10,
   "metadata": {},
   "outputs": [],
   "source": [
    "from utils import esprocess\n",
    "import pandas as pd\n",
    "import eventstudy as es"
   ]
  },
  {
   "cell_type": "code",
   "execution_count": 11,
   "metadata": {},
   "outputs": [],
   "source": [
    "PARAMS = {\n",
    "    \n",
    "    'stock_filter_list':['1101', '1102'],\n",
    "    'event_window':(0,+10),\n",
    "    'estimation_size':30,\n",
    "    'buffer_size':30,\n",
    "    'window_size':10,\n",
    "    'n_signal':10,\n",
    "    'positive_sig_percent':0.8\n",
    "}"
   ]
  },
  {
   "cell_type": "code",
   "execution_count": 12,
   "metadata": {},
   "outputs": [],
   "source": [
    "import pandas as pd\n",
    "\n",
    "class MyEventStudy(esprocess.EventStudy):\n",
    "    def __init__(self, df):\n",
    "        # Call the parent class's __init__ method\n",
    "        super().__init__(df)\n",
    "        self.original_df = df\n",
    "\n",
    "    def create_events(self):\n",
    "        # Call the parent class's create_events method\n",
    "        self.tick_event_dict[f'1101'] = ['2020-04-10']\n",
    "        self.tick_event_dict[f'1102'] = ['2020-04-10']\n"
   ]
  },
  {
   "cell_type": "code",
   "execution_count": 13,
   "metadata": {},
   "outputs": [
    {
     "name": "stderr",
     "output_type": "stream",
     "text": [
      "/var/folders/3l/zrgb1hlx5j7gk6hsphbjht980000gn/T/ipykernel_1405/2582819894.py:1: DtypeWarning: Columns (1) have mixed types. Specify dtype option on import or set low_memory=False.\n",
      "  cn = pd.read_csv(\"../1223/data/concentration/concentration/2020_20230814.csv\", index_col=False).dropna()\n"
     ]
    }
   ],
   "source": [
    "cn = pd.read_csv(\"../1223/data/concentration/concentration/2020_20230814.csv\", index_col=False).dropna()\n",
    "q = pd.read_csv(\"../1223/data/concentration/quote/2020_20230814.csv\", index_col=False).dropna()\n",
    "rf = pd.read_csv(\"../1223/data/concentration/rf/rf.csv\").dropna().rename(columns={'日期':'date'})\n",
    "df = pd.merge(q, cn, on=['日期', '股號'], how='left')\n",
    "df = df.groupby('股號').apply(lambda x: x.sort_values('日期')).reset_index(drop=True)\n",
    "\n",
    "\n",
    "df = pd.merge(q, cn, on=['日期', '股號'], how='left').reset_index(drop=True)"
   ]
  },
  {
   "cell_type": "code",
   "execution_count": 14,
   "metadata": {},
   "outputs": [
    {
     "name": "stdout",
     "output_type": "stream",
     "text": [
      "\n",
      "\n",
      "Processing Perform ES : \n"
     ]
    },
    {
     "name": "stderr",
     "output_type": "stream",
     "text": [
      "Looping ticks:   0%|          | 0/2 [00:00<?, ?it/s]/Users/above/Desktop/Intern_Jimmy/0107/utils/esprocess.py:108: FutureWarning: The behavior of DataFrame concatenation with empty or all-NA entries is deprecated. In a future version, this will no longer exclude empty or all-NA columns when determining the result dtypes. To retain the old behavior, exclude the relevant entries before the concat operation.\n",
      "  self.final_res = pd.concat([self.final_res, tick_res], ignore_index=True)\n",
      "/Users/above/Desktop/Intern_Jimmy/0107/utils/esprocess.py:177: FutureWarning: The provided callable <built-in function sum> is currently using SeriesGroupBy.sum. In a future version of pandas, the provided callable will be used directly. To keep current behavior pass the string \"sum\" instead.\n",
      "  ).groupby(['EventDate', 'symbol'], as_index=False).agg({'negative_significant_after_event':sum, 'positive_significant_after_event':sum})\n",
      "/Users/above/Desktop/Intern_Jimmy/0107/utils/esprocess.py:177: FutureWarning: The provided callable <built-in function sum> is currently using SeriesGroupBy.sum. In a future version of pandas, the provided callable will be used directly. To keep current behavior pass the string \"sum\" instead.\n",
      "  ).groupby(['EventDate', 'symbol'], as_index=False).agg({'negative_significant_after_event':sum, 'positive_significant_after_event':sum})\n"
     ]
    }
   ],
   "source": [
    "es_engine = MyEventStudy(df)\n",
    "es_engine.create_events()\n",
    "es_engine.perform_es(stock_filter_list=PARAMS['stock_filter_list'])\n",
    "res = es_engine.process_final_res()"
   ]
  },
  {
   "cell_type": "code",
   "execution_count": 15,
   "metadata": {},
   "outputs": [
    {
     "data": {
      "text/html": [
       "<div>\n",
       "<style scoped>\n",
       "    .dataframe tbody tr th:only-of-type {\n",
       "        vertical-align: middle;\n",
       "    }\n",
       "\n",
       "    .dataframe tbody tr th {\n",
       "        vertical-align: top;\n",
       "    }\n",
       "\n",
       "    .dataframe thead th {\n",
       "        text-align: right;\n",
       "    }\n",
       "</style>\n",
       "<table border=\"1\" class=\"dataframe\">\n",
       "  <thead>\n",
       "    <tr style=\"text-align: right;\">\n",
       "      <th></th>\n",
       "      <th>EventDate</th>\n",
       "      <th>symbol</th>\n",
       "      <th>negative_significant_after_event</th>\n",
       "      <th>positive_significant_after_event</th>\n",
       "    </tr>\n",
       "  </thead>\n",
       "  <tbody>\n",
       "    <tr>\n",
       "      <th>0</th>\n",
       "      <td>2020-04-10</td>\n",
       "      <td>1101</td>\n",
       "      <td>8</td>\n",
       "      <td>0</td>\n",
       "    </tr>\n",
       "    <tr>\n",
       "      <th>1</th>\n",
       "      <td>2020-04-10</td>\n",
       "      <td>1102</td>\n",
       "      <td>10</td>\n",
       "      <td>0</td>\n",
       "    </tr>\n",
       "  </tbody>\n",
       "</table>\n",
       "</div>"
      ],
      "text/plain": [
       "   EventDate symbol  negative_significant_after_event  \\\n",
       "0 2020-04-10   1101                                 8   \n",
       "1 2020-04-10   1102                                10   \n",
       "\n",
       "   positive_significant_after_event  \n",
       "0                                 0  \n",
       "1                                 0  "
      ]
     },
     "execution_count": 15,
     "metadata": {},
     "output_type": "execute_result"
    }
   ],
   "source": [
    "res"
   ]
  }
 ],
 "metadata": {
  "kernelspec": {
   "display_name": "sim_search",
   "language": "python",
   "name": "python3"
  },
  "language_info": {
   "codemirror_mode": {
    "name": "ipython",
    "version": 3
   },
   "file_extension": ".py",
   "mimetype": "text/x-python",
   "name": "python",
   "nbconvert_exporter": "python",
   "pygments_lexer": "ipython3",
   "version": "3.10.0"
  }
 },
 "nbformat": 4,
 "nbformat_minor": 2
}
