{
 "cells": [
  {
   "cell_type": "code",
   "execution_count": 1,
   "metadata": {},
   "outputs": [],
   "source": [
    "import pandas as pd\n",
    "import numpy as np\n",
    "import warnings\n",
    "import eventstudy as es\n",
    "# from utils import XD\n",
    "from scipy.stats import wilcoxon\n",
    "import pymannkendall as mk\n",
    "from tqdm import tqdm\n",
    "import itertools\n",
    "import eventstudy\n",
    "import matplotlib.pyplot as plt\n",
    "warnings.filterwarnings(\"ignore\")"
   ]
  },
  {
   "cell_type": "code",
   "execution_count": 2,
   "metadata": {},
   "outputs": [],
   "source": [
    "# read data\n",
    "cn = pd.read_csv(\"../../1223/data/concentration/2020_20230814.csv\").dropna()\n",
    "q = pd.read_csv(\"../../1223/data/quote/2020_20230814.csv\").dropna()\n",
    "rf = pd.read_csv(\"../../1223/data/rf/rf.csv\").dropna().rename(columns={'日期':'date'})\n",
    "df = pd.merge(q, cn, on=['日期', '股號'], how='left')\n",
    "df = df.groupby('股號').apply(lambda x: x.sort_values('日期')).reset_index(drop=True)"
   ]
  },
  {
   "cell_type": "code",
   "execution_count": 3,
   "metadata": {},
   "outputs": [
    {
     "name": "stdout",
     "output_type": "stream",
     "text": [
      "[*********************100%***********************]  1 of 1 completed\n"
     ]
    }
   ],
   "source": [
    "import yfinance as yf\n",
    "\n",
    "# 設定股票代碼，台灣加權指數的代碼是 ^TWII\n",
    "stock_code = \"^TWII\"\n",
    "\n",
    "# 設定開始日期和結束日期\n",
    "start_date = \"2020-01-01\"\n",
    "end_date = \"2023-12-31\"  # 你可以調整結束日期為當前日期或任何你需要的日期\n",
    "\n",
    "# 使用yfinance獲取股價資訊\n",
    "twii_data = yf.download(stock_code, start=start_date, end=end_date)"
   ]
  },
  {
   "cell_type": "code",
   "execution_count": 4,
   "metadata": {},
   "outputs": [],
   "source": [
    "twii_data['date'] =  pd.to_datetime(twii_data.index)\n",
    "twii_data['ret'] = twii_data['Adj Close'].pct_change()"
   ]
  },
  {
   "cell_type": "code",
   "execution_count": 5,
   "metadata": {},
   "outputs": [],
   "source": [
    "# mutate col\n",
    "df = pd.merge(q, cn, on=['日期', '股號'], how='left')\n",
    "df = df.groupby('股號').apply(lambda x: x.sort_values('日期')).reset_index(drop=True)\n",
    "\n",
    "\n",
    "# 量起\n",
    "df['成交量_1'] = df.groupby('股號')['成交量'].shift(-1)\n",
    "\n",
    "def divide_two_cols(df_sub):\n",
    "    df_sub['volume_delta_1'] = df_sub['成交量_1'] / df_sub['成交量']\n",
    "    return df_sub\n",
    "\n",
    "df = df.groupby('股號').apply(divide_two_cols)\n",
    "\n",
    "\n",
    "# 價揚\n",
    "# shift 1 假設是成交量出現異常後的下一根進場\n",
    "df['ret'] = df.groupby('股號')['收盤價'].pct_change()\n",
    "df['ret_2'] = df.groupby('股號')['ret'].shift(-1)\n",
    "df = df.dropna()"
   ]
  },
  {
   "cell_type": "code",
   "execution_count": 6,
   "metadata": {},
   "outputs": [],
   "source": [
    "def create_ret_df(df):\n",
    "\n",
    "    uq_id = df['股號'].unique()\n",
    "    res_by_ticker = []\n",
    "    res = None\n",
    "\n",
    "    for ticker_id in tqdm(uq_id[:len(uq_id)]):\n",
    "        ticker_df = df[df['股號']==ticker_id].reset_index(drop=True)\n",
    "\n",
    "        date = ticker_df['日期'].tolist()\n",
    "        ret = ticker_df['ret'].tolist()\n",
    "\n",
    "        ticker_ret_df = pd.DataFrame(list(zip(date, ret)),\n",
    "               columns =['date', f'{ticker_id}'])\n",
    "        \n",
    "        res_by_ticker.append(ticker_ret_df)\n",
    "    for i in tqdm(range(len(res_by_ticker))):\n",
    "        if i == 0:\n",
    "            res = res_by_ticker[i]\n",
    "\n",
    "        else:\n",
    "            res = pd.merge(res, res_by_ticker[i], how='left', on='date')\n",
    "\n",
    "    return res\n"
   ]
  },
  {
   "cell_type": "code",
   "execution_count": 7,
   "metadata": {},
   "outputs": [
    {
     "name": "stderr",
     "output_type": "stream",
     "text": [
      "100%|██████████| 1350/1350 [02:35<00:00,  8.69it/s]\n",
      "100%|██████████| 1350/1350 [01:25<00:00, 15.82it/s]\n"
     ]
    }
   ],
   "source": [
    "return_df = create_ret_df(df)"
   ]
  },
  {
   "cell_type": "code",
   "execution_count": 8,
   "metadata": {},
   "outputs": [],
   "source": [
    "rf[\"date\"] = pd.to_datetime(rf['date'])\n",
    "return_df[\"date\"] =  pd.to_datetime(return_df[\"date\"])"
   ]
  },
  {
   "cell_type": "code",
   "execution_count": 28,
   "metadata": {},
   "outputs": [],
   "source": [
    "main_df_4analysis = pd.merge(return_df, rf, how='left', on='date')\n",
    "main_df_4analysis = pd.merge(main_df_4analysis, twii_data, how='left', on='date')\n",
    "main_df_4analysis = main_df_4analysis.dropna(subset=['1101', 'ret'])"
   ]
  },
  {
   "cell_type": "code",
   "execution_count": 30,
   "metadata": {},
   "outputs": [
    {
     "name": "stdout",
     "output_type": "stream",
     "text": [
      "          date     RF     MktRt    Mkt-RF  SMB  HML\n",
      "0   2020-01-03  0.632  0.000822 -0.631178    0    0\n",
      "1   2020-01-06  0.623 -0.012970 -0.635970    0    0\n",
      "2   2020-01-07  0.623 -0.006110 -0.629110    0    0\n",
      "3   2020-01-08  0.623 -0.005321 -0.628321    0    0\n",
      "4   2020-01-09  0.627  0.012992 -0.614008    0    0\n",
      "..         ...    ...       ...       ...  ...  ...\n",
      "871 2023-08-07  1.163  0.009043 -1.153957    0    0\n",
      "872 2023-08-08  1.164 -0.006998 -1.170998    0    0\n",
      "873 2023-08-09  1.157 -0.000363 -1.157363    0    0\n",
      "874 2023-08-10  1.157 -0.014003 -1.171003    0    0\n",
      "875 2023-08-11  1.165 -0.002011 -1.167011    0    0\n",
      "\n",
      "[875 rows x 6 columns]\n",
      "          date      1101\n",
      "0   2020-01-03 -0.003401\n",
      "1   2020-01-06 -0.011377\n",
      "2   2020-01-07  0.003452\n",
      "3   2020-01-08 -0.004587\n",
      "4   2020-01-09  0.001152\n",
      "..         ...       ...\n",
      "871 2023-08-07  0.008032\n",
      "872 2023-08-08 -0.014608\n",
      "873 2023-08-09  0.001348\n",
      "874 2023-08-10 -0.008075\n",
      "875 2023-08-11  0.014925\n",
      "\n",
      "[875 rows x 2 columns]\n"
     ]
    }
   ],
   "source": [
    "# fama df\n",
    "famadf = main_df_4analysis.iloc[:,[main_df_4analysis.columns.get_loc(c) for c in ['date', '收市', 'ret']]].rename(columns={'收市':'RF', 'ret':'MktRt'})\n",
    "famadf['Mkt-RF'] = famadf['MktRt'] - famadf['RF']\n",
    "famadf['SMB'] = 0\n",
    "famadf['HML'] = 0\n",
    "# print(famadf.dropna())\n",
    "# famadf = famadf.dropna(subset=['1101', 'toy'])\n",
    "famadf.to_csv('./df/fama.csv')\n",
    "print(famadf)\n",
    "\n",
    "# return df\n",
    "returns_df = main_df_4analysis.iloc[:,[main_df_4analysis.columns.get_loc(c) for c in ['date', '1101']]] \n",
    "print(returns_df)\n",
    "returns_df.to_csv('./df/returns.csv')"
   ]
  },
  {
   "cell_type": "code",
   "execution_count": 31,
   "metadata": {},
   "outputs": [
    {
     "data": {
      "text/plain": [
       "'2020-06-18'"
      ]
     },
     "execution_count": 31,
     "metadata": {},
     "output_type": "execute_result"
    }
   ],
   "source": [
    "df_1101 = df[df['股號']==1101]\n",
    "\n",
    "\n",
    "vol_increase_id = df_1101[(df_1101['成交量']>500)&(df_1101['volume_delta_1']>2)].index\n",
    "df_1101['indicator'] = df_1101.index.isin(vol_increase_id).astype(int)\n",
    "df_1101['event1'] = (df_1101['indicator'].shift(1) == 0) & (df_1101['indicator'] == 1)\n",
    "\n",
    "event_date = df_1101['日期'][vol_increase_id].to_list()\n",
    "event_date[5]"
   ]
  },
  {
   "cell_type": "code",
   "execution_count": 32,
   "metadata": {},
   "outputs": [],
   "source": [
    "es.Single.import_returns(path='./df/returns.csv')\n",
    "es.Single.import_FamaFrench(path='./df/fama.csv', date_format = '%Y-%m-%d %H:%M:%S.%f')"
   ]
  },
  {
   "cell_type": "code",
   "execution_count": 36,
   "metadata": {},
   "outputs": [],
   "source": [
    "# try:\n",
    "event = es.Single.FamaFrench_3factor(\n",
    "    security_ticker = '1101',\n",
    "    event_date = np.datetime64('2020-04-13'),\n",
    "    event_window = (-2,+10), \n",
    "    estimation_size = 10, # 注意這個\n",
    "    buffer_size = 30\n",
    ")\n",
    "# except:\n",
    "    # print()"
   ]
  },
  {
   "cell_type": "code",
   "execution_count": 49,
   "metadata": {},
   "outputs": [],
   "source": [
    "test = event.results(decimals=[3,5,3,5,2,2])"
   ]
  },
  {
   "cell_type": "code",
   "execution_count": 53,
   "metadata": {},
   "outputs": [],
   "source": [
    "test['EventDate'] =  np.datetime64('2020-06-18')\n",
    "test['symbol'] = '1101'"
   ]
  },
  {
   "cell_type": "code",
   "execution_count": 54,
   "metadata": {},
   "outputs": [
    {
     "data": {
      "text/html": [
       "<div>\n",
       "<style scoped>\n",
       "    .dataframe tbody tr th:only-of-type {\n",
       "        vertical-align: middle;\n",
       "    }\n",
       "\n",
       "    .dataframe tbody tr th {\n",
       "        vertical-align: top;\n",
       "    }\n",
       "\n",
       "    .dataframe thead th {\n",
       "        text-align: right;\n",
       "    }\n",
       "</style>\n",
       "<table border=\"1\" class=\"dataframe\">\n",
       "  <thead>\n",
       "    <tr style=\"text-align: right;\">\n",
       "      <th></th>\n",
       "      <th>AR</th>\n",
       "      <th>Std. E. AR</th>\n",
       "      <th>CAR</th>\n",
       "      <th>Std. E. CAR</th>\n",
       "      <th>T-stat</th>\n",
       "      <th>P-value</th>\n",
       "      <th>EventDate</th>\n",
       "      <th>symbol</th>\n",
       "    </tr>\n",
       "  </thead>\n",
       "  <tbody>\n",
       "    <tr>\n",
       "      <th>-2</th>\n",
       "      <td>-0.010</td>\n",
       "      <td>0.01012</td>\n",
       "      <td>-0.01</td>\n",
       "      <td>0.01012</td>\n",
       "      <td>-0.97</td>\n",
       "      <td>0.36</td>\n",
       "      <td>2020-06-18</td>\n",
       "      <td>1101</td>\n",
       "    </tr>\n",
       "    <tr>\n",
       "      <th>-1</th>\n",
       "      <td>-0.016</td>\n",
       "      <td>0.01012</td>\n",
       "      <td>-0.025</td>\n",
       "      <td>0.01431</td>\n",
       "      <td>-1.78</td>\n",
       "      <td>0.11</td>\n",
       "      <td>2020-06-18</td>\n",
       "      <td>1101</td>\n",
       "    </tr>\n",
       "    <tr>\n",
       "      <th>0</th>\n",
       "      <td>-0.020</td>\n",
       "      <td>0.01012</td>\n",
       "      <td>-0.045 **</td>\n",
       "      <td>0.01753</td>\n",
       "      <td>-2.59</td>\n",
       "      <td>0.03</td>\n",
       "      <td>2020-06-18</td>\n",
       "      <td>1101</td>\n",
       "    </tr>\n",
       "    <tr>\n",
       "      <th>1</th>\n",
       "      <td>-0.019</td>\n",
       "      <td>0.01012</td>\n",
       "      <td>-0.064 **</td>\n",
       "      <td>0.02024</td>\n",
       "      <td>-3.17</td>\n",
       "      <td>0.01</td>\n",
       "      <td>2020-06-18</td>\n",
       "      <td>1101</td>\n",
       "    </tr>\n",
       "    <tr>\n",
       "      <th>2</th>\n",
       "      <td>-0.007</td>\n",
       "      <td>0.01012</td>\n",
       "      <td>-0.071 **</td>\n",
       "      <td>0.02263</td>\n",
       "      <td>-3.16</td>\n",
       "      <td>0.01</td>\n",
       "      <td>2020-06-18</td>\n",
       "      <td>1101</td>\n",
       "    </tr>\n",
       "    <tr>\n",
       "      <th>3</th>\n",
       "      <td>-0.020</td>\n",
       "      <td>0.01012</td>\n",
       "      <td>-0.091 **</td>\n",
       "      <td>0.02479</td>\n",
       "      <td>-3.67</td>\n",
       "      <td>0.01</td>\n",
       "      <td>2020-06-18</td>\n",
       "      <td>1101</td>\n",
       "    </tr>\n",
       "    <tr>\n",
       "      <th>4</th>\n",
       "      <td>-0.013</td>\n",
       "      <td>0.01012</td>\n",
       "      <td>-0.104 ***</td>\n",
       "      <td>0.02678</td>\n",
       "      <td>-3.87</td>\n",
       "      <td>0.00</td>\n",
       "      <td>2020-06-18</td>\n",
       "      <td>1101</td>\n",
       "    </tr>\n",
       "    <tr>\n",
       "      <th>5</th>\n",
       "      <td>-0.020</td>\n",
       "      <td>0.01012</td>\n",
       "      <td>-0.123 ***</td>\n",
       "      <td>0.02863</td>\n",
       "      <td>-4.30</td>\n",
       "      <td>0.00</td>\n",
       "      <td>2020-06-18</td>\n",
       "      <td>1101</td>\n",
       "    </tr>\n",
       "    <tr>\n",
       "      <th>6</th>\n",
       "      <td>-0.015</td>\n",
       "      <td>0.01012</td>\n",
       "      <td>-0.139 ***</td>\n",
       "      <td>0.03036</td>\n",
       "      <td>-4.56</td>\n",
       "      <td>0.00</td>\n",
       "      <td>2020-06-18</td>\n",
       "      <td>1101</td>\n",
       "    </tr>\n",
       "    <tr>\n",
       "      <th>7</th>\n",
       "      <td>-0.010</td>\n",
       "      <td>0.01012</td>\n",
       "      <td>-0.148 ***</td>\n",
       "      <td>0.03200</td>\n",
       "      <td>-4.63</td>\n",
       "      <td>0.00</td>\n",
       "      <td>2020-06-18</td>\n",
       "      <td>1101</td>\n",
       "    </tr>\n",
       "    <tr>\n",
       "      <th>8</th>\n",
       "      <td>-0.005</td>\n",
       "      <td>0.01012</td>\n",
       "      <td>-0.154 ***</td>\n",
       "      <td>0.03357</td>\n",
       "      <td>-4.58</td>\n",
       "      <td>0.00</td>\n",
       "      <td>2020-06-18</td>\n",
       "      <td>1101</td>\n",
       "    </tr>\n",
       "    <tr>\n",
       "      <th>9</th>\n",
       "      <td>-0.010</td>\n",
       "      <td>0.01012</td>\n",
       "      <td>-0.164 ***</td>\n",
       "      <td>0.03506</td>\n",
       "      <td>-4.67</td>\n",
       "      <td>0.00</td>\n",
       "      <td>2020-06-18</td>\n",
       "      <td>1101</td>\n",
       "    </tr>\n",
       "    <tr>\n",
       "      <th>10</th>\n",
       "      <td>-0.010</td>\n",
       "      <td>0.01012</td>\n",
       "      <td>-0.174 ***</td>\n",
       "      <td>0.03649</td>\n",
       "      <td>-4.75</td>\n",
       "      <td>0.00</td>\n",
       "      <td>2020-06-18</td>\n",
       "      <td>1101</td>\n",
       "    </tr>\n",
       "  </tbody>\n",
       "</table>\n",
       "</div>"
      ],
      "text/plain": [
       "       AR  Std. E. AR         CAR  Std. E. CAR  T-stat  P-value  EventDate  \\\n",
       "-2 -0.010     0.01012       -0.01      0.01012   -0.97     0.36 2020-06-18   \n",
       "-1 -0.016     0.01012      -0.025      0.01431   -1.78     0.11 2020-06-18   \n",
       "0  -0.020     0.01012   -0.045 **      0.01753   -2.59     0.03 2020-06-18   \n",
       "1  -0.019     0.01012   -0.064 **      0.02024   -3.17     0.01 2020-06-18   \n",
       "2  -0.007     0.01012   -0.071 **      0.02263   -3.16     0.01 2020-06-18   \n",
       "3  -0.020     0.01012   -0.091 **      0.02479   -3.67     0.01 2020-06-18   \n",
       "4  -0.013     0.01012  -0.104 ***      0.02678   -3.87     0.00 2020-06-18   \n",
       "5  -0.020     0.01012  -0.123 ***      0.02863   -4.30     0.00 2020-06-18   \n",
       "6  -0.015     0.01012  -0.139 ***      0.03036   -4.56     0.00 2020-06-18   \n",
       "7  -0.010     0.01012  -0.148 ***      0.03200   -4.63     0.00 2020-06-18   \n",
       "8  -0.005     0.01012  -0.154 ***      0.03357   -4.58     0.00 2020-06-18   \n",
       "9  -0.010     0.01012  -0.164 ***      0.03506   -4.67     0.00 2020-06-18   \n",
       "10 -0.010     0.01012  -0.174 ***      0.03649   -4.75     0.00 2020-06-18   \n",
       "\n",
       "   symbol  \n",
       "-2   1101  \n",
       "-1   1101  \n",
       "0    1101  \n",
       "1    1101  \n",
       "2    1101  \n",
       "3    1101  \n",
       "4    1101  \n",
       "5    1101  \n",
       "6    1101  \n",
       "7    1101  \n",
       "8    1101  \n",
       "9    1101  \n",
       "10   1101  "
      ]
     },
     "execution_count": 54,
     "metadata": {},
     "output_type": "execute_result"
    }
   ],
   "source": [
    "test"
   ]
  },
  {
   "cell_type": "code",
   "execution_count": null,
   "metadata": {},
   "outputs": [],
   "source": []
  }
 ],
 "metadata": {
  "kernelspec": {
   "display_name": "sim_search",
   "language": "python",
   "name": "python3"
  },
  "language_info": {
   "codemirror_mode": {
    "name": "ipython",
    "version": 3
   },
   "file_extension": ".py",
   "mimetype": "text/x-python",
   "name": "python",
   "nbconvert_exporter": "python",
   "pygments_lexer": "ipython3",
   "version": "3.7.13"
  }
 },
 "nbformat": 4,
 "nbformat_minor": 2
}
